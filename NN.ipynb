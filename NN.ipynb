{
 "cells": [
  {
   "cell_type": "code",
   "execution_count": 1,
   "metadata": {},
   "outputs": [],
   "source": [
    "import numpy as np"
   ]
  },
  {
   "cell_type": "code",
   "execution_count": 2,
   "metadata": {},
   "outputs": [],
   "source": [
    "def tanh(x):\n",
    "    return (1-np.exp(-2*x))/(1+np.exp(-2*x))\n",
    " \n",
    "def tanh_derivative(x):\n",
    "    return (1+x)*(1-x)"
   ]
  },
  {
   "cell_type": "code",
   "execution_count": 3,
   "metadata": {},
   "outputs": [],
   "source": [
    "class Net:\n",
    "    \n",
    "    def __init__(self):\n",
    "    \n",
    "        \n",
    "        self.activation = tanh\n",
    "        self.derivative = tanh_derivative\n",
    "        self.num_layers = 3\n",
    " \n",
    "        self.w0 = 2*np.random.rand(3 + 1, 4) - 1\n",
    "        self.w1 = 2*np.random.rand(4 + 1, 1) - 1\n",
    " \n",
    "    \n",
    "    def forward_prop(self, x):\n",
    "       \n",
    "        h = x\n",
    " \n",
    "        a = np.dot(h[0], self.w0)\n",
    "        a = self.activation(a)\n",
    "        a = np.concatenate((np.ones(1), np.array(a)))\n",
    "        h.append(a)\n",
    " \n",
    "        a = np.dot(h[1], self.w1)\n",
    "        a = self.activation(a)\n",
    "        h.append(a)\n",
    "        \n",
    "        return h\n",
    "    \n",
    "    def back_prop(self, y, target, lr):\n",
    "        error = target - y[-1]\n",
    "        delta_vec = [error * self.derivative(y[-1])]\n",
    " \n",
    " \n",
    "        error = delta_vec[-1].dot(self.w1[1:].T)\n",
    "        error = error*self.derivative(y[1][1:])\n",
    "        delta_vec.append(error)\n",
    " \n",
    "        delta_vec.reverse()\n",
    "        \n",
    "        layer = y[0].reshape(1, 3+1)\n",
    "        delta = delta_vec[0].reshape(1, 4)\n",
    "        self.w0 += lr*layer.T.dot(delta)\n",
    " \n",
    "        layer = y[1].reshape(1, 4+1)\n",
    "        delta = delta_vec[1].reshape(1, 1)\n",
    "        self.w1 += lr*layer.T.dot(delta)\n",
    "    \n",
    "    def fit(self, X, labels, lr=0.1, epochs=10000):\n",
    "        \n",
    "        ones = np.ones((1, X.shape[0]))\n",
    "        X = np.concatenate((ones.T, X), axis=1)\n",
    "        \n",
    "        for e in range(epochs):\n",
    "        \n",
    "            for i in range(X.shape[0]):\n",
    " \n",
    "                x = [X[i]]\n",
    "                y = self.forward_prop(x)\n",
    "                target = labels[i]\n",
    "                self.back_prop(y, target, lr)\n",
    "\n",
    "        return self.w0,self.w1\n",
    "    \n",
    " \n"
   ]
  },
  {
   "cell_type": "code",
   "execution_count": 8,
   "metadata": {},
   "outputs": [],
   "source": [
    "def predict(x,w0,w1):\n",
    "\n",
    "    val = np.concatenate((np.ones(1).T, np.array(x)))\n",
    "    val = tanh(np.dot(val, w0))\n",
    "    val = np.concatenate((np.ones(1).T, np.array(val)))\n",
    "    val = tanh(np.dot(val, w1))\n",
    "\n",
    "    return val.item()"
   ]
  },
  {
   "cell_type": "code",
   "execution_count": 4,
   "metadata": {},
   "outputs": [],
   "source": [
    "X = np.array([[0, 0, 0], [0, 0, 1],\n",
    "              [0, 1, 0], [0, 1, 1],\n",
    "              [1, 0, 0], [1, 0, 1],\n",
    "              [1, 1, 0], [1, 1, 1]\n",
    "             ])\n",
    " \n",
    "y = np.array([1, 0,\n",
    "              0, 1,\n",
    "              0, 1,\n",
    "              1, 0])"
   ]
  },
  {
   "cell_type": "code",
   "execution_count": 6,
   "metadata": {},
   "outputs": [],
   "source": [
    "net = Net()\n",
    "\n",
    "w0,w1 = net.fit(X, y, epochs = 10000)"
   ]
  },
  {
   "cell_type": "code",
   "execution_count": null,
   "metadata": {},
   "outputs": [],
   "source": [
    "import pytest\n",
    "\n",
    "@pytest.mark.parametrize('inp,out', [\n",
    "    ([0,0], 0),\n",
    "    ([0,1], 1),\n",
    "    ([1,0], 1),\n",
    "    ([1,1], 0)])\n",
    " \n",
    "def test_predict(inp,out):\n",
    "    assert round(predict(inp,w0,w1)) == out"
   ]
  },
  {
   "cell_type": "code",
   "execution_count": 9,
   "metadata": {},
   "outputs": [
    {
     "data": {
      "text/plain": [
       "0.994783346455026"
      ]
     },
     "execution_count": 9,
     "metadata": {},
     "output_type": "execute_result"
    }
   ],
   "source": [
    "predict([1, 1, 0], w0, w1)"
   ]
  },
  {
   "cell_type": "code",
   "execution_count": null,
   "metadata": {},
   "outputs": [],
   "source": []
  }
 ],
 "metadata": {
  "kernelspec": {
   "display_name": "Python 3",
   "language": "python",
   "name": "python3"
  },
  "language_info": {
   "codemirror_mode": {
    "name": "ipython",
    "version": 3
   },
   "file_extension": ".py",
   "mimetype": "text/x-python",
   "name": "python",
   "nbconvert_exporter": "python",
   "pygments_lexer": "ipython3",
   "version": "3.7.6"
  }
 },
 "nbformat": 4,
 "nbformat_minor": 4
}
